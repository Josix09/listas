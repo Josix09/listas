{
  "nbformat": 4,
  "nbformat_minor": 0,
  "metadata": {
    "colab": {
      "provenance": [],
      "authorship_tag": "ABX9TyPs1w0TI6bY1PSuN+OIN5RL",
      "include_colab_link": true
    },
    "kernelspec": {
      "name": "python3",
      "display_name": "Python 3"
    },
    "language_info": {
      "name": "python"
    }
  },
  "cells": [
    {
      "cell_type": "markdown",
      "metadata": {
        "id": "view-in-github",
        "colab_type": "text"
      },
      "source": [
        "<a href=\"https://colab.research.google.com/github/Josix09/listas/blob/main/listas.ipynb\" target=\"_parent\"><img src=\"https://colab.research.google.com/assets/colab-badge.svg\" alt=\"Open In Colab\"/></a>"
      ]
    },
    {
      "cell_type": "markdown",
      "source": [
        "# listas\n",
        "-una lista hace referencia a una colección de datos que pueden ser números, cadenas o algún otro tipo.\n",
        "\n",
        "-una característica importante de las listas es que son colecciones ordenadas de datos, lo que implica que importa el orden en el que se encuentran sus elementos.\n",
        "\n",
        "- el primer elemento ocupa la posición 0, el segunda la 1 y así sucesivamente.\n",
        "\n",
        "-Son mutables: una vez creada la lista, esta puedde modificarse.Es decir, se le puede agregar o quitar elementos.\n",
        "\n",
        "-en python estan representadas por el tipo ***list*** y para definirla se utiliza la siguiente sintaxis:\n",
        "\n",
        "```nombre_lista = [valor1,valor2,....,valor]```\n",
        "\n",
        "-los elementos pueden ser de cualquier tipo, incluso puede haber tipos diferentes en una misma lista.\n",
        "\n",
        "-también es posible crear una lista usando el constructor ```list```\n"
      ],
      "metadata": {
        "id": "hhqUdl02Ck5e"
      }
    },
    {
      "cell_type": "code",
      "execution_count": null,
      "metadata": {
        "id": "q6-0IYQPCaVe"
      },
      "outputs": [],
      "source": [
        "#ejemplo 1\n",
        "\n",
        "#----------------------------------------------------\n",
        "#usando [] y dando valores para incializar las listas\n",
        "#----------------------------------------------------\n",
        "\n",
        "dias_laborables = [\"lunes\",\"martes\",\"miercoles\",\"jueves\",\"viernes\"]\n",
        "print(dias_laborables)\n",
        "\n",
        "colores_primarios = [\"rojo\",\"amarillo\",\"azul\"]\n",
        "print(colores_primarios)\n",
        "\n",
        "precios= [205.30,107.18,25.450,319.89,170.23,349]\n",
        "print(precios)\n",
        "print (type(precios))\n",
        "\n",
        "nezcolanza=[122,\"octubre\",1492,True]\n",
        "lista_vacía=[]\n",
        "\n",
        "#----------------------------------------------------\n",
        "#usando el constructor list\n",
        "#----------------------------------------------------\n",
        "lista_vacia_2=list()\n",
        "lista_3=list(range(0,30,2))\n",
        "print(lista_3)\n",
        "\n",
        "lista_4=list(range(29,0,-2))\n",
        "print(lista_4)\n",
        "\n",
        "lista_5=list(\"Néstor Jesús\")\n",
        "print(lista_5)\n",
        "frase = \"Néstor Jesús Páez Sarmiento\"\n",
        "\n",
        "lista_6=frase.split()\n",
        "print(lista_6)\n",
        "\n",
        "\n"
      ]
    },
    {
      "cell_type": "markdown",
      "source": [
        "## Operaciones\n",
        "\n",
        "### operador  +\n",
        "-concatenar o pegar los elementos de una lista al final de otra\n",
        "\n",
        "### operador  *\n",
        "-se utiliza para repetir la secuencia de elementos de la lista tantas veces como lo indique el valor que acompañe al operador"
      ],
      "metadata": {
        "id": "9Kj40sBmQxAE"
      }
    },
    {
      "cell_type": "code",
      "source": [
        "dias_laborables = [\"lunes\",\"martes\",\"miercoles\",\"jueves\",\"viernes\"]\n",
        "\n",
        "colores_primarios = [\"rojo\",\"amarillo\",\"azul\"]\n",
        "\n",
        "precios= [205.30,107.18,25.450,319.89,170.23,349]\n",
        "\n",
        "#----------------------------------------------------\n",
        "# acceso a los elementosde una lista\n",
        "#----------------------------------------------------\n",
        "\n",
        "print(dias_laborables[0])\n",
        "print(dias_laborables[-1])\n",
        "print(dias_laborables[-5])\n",
        "\n",
        "#----------------------------------------------------\n",
        "# operador +\n",
        "#----------------------------------------------------\n",
        "\n",
        "fin_semana = [\"sabado\",\"domingo\"]\n",
        "semana=dias_laborables + fin_semana\n",
        "print(semana)\n",
        "\n",
        "#----------------------------------------------------\n",
        "# operador *\n",
        "#----------------------------------------------------\n",
        "colores_repetidos = colores_primarios * 3\n",
        "print(colores_repetidos)\n"
      ],
      "metadata": {
        "colab": {
          "base_uri": "https://localhost:8080/"
        },
        "id": "xtLLdrINRe0b",
        "outputId": "69784139-76c1-49bd-c73b-4958773628ef"
      },
      "execution_count": 13,
      "outputs": [
        {
          "output_type": "stream",
          "name": "stdout",
          "text": [
            "lunes\n",
            "viernes\n",
            "lunes\n",
            "['lunes', 'martes', 'miercoles', 'jueves', 'viernes', 'sabado', 'domingo']\n",
            "['rojo', 'amarillo', 'azul', 'rojo', 'amarillo', 'azul', 'rojo', 'amarillo', 'azul']\n"
          ]
        }
      ]
    },
    {
      "cell_type": "markdown",
      "source": [
        "## Funciones asociadas a listas\n"
      ],
      "metadata": {
        "id": "eRi8SD2oUJ3q"
      }
    },
    {
      "cell_type": "code",
      "source": [
        "dias_laborables = [\"lunes\",\"martes\",\"miercoles\",\"jueves\",\"viernes\"]\n",
        "\n",
        "colores_primarios = [\"rojo\",\"amarillo\",\"azul\"]\n",
        "\n",
        "precios= [205.30,107.18,25.450,319.89,170.23,349]\n",
        "\n",
        "pares=list(range(0,30,2))\n",
        "\n",
        "impares=list(range(29,0,-2))\n",
        "\n",
        "colores_repetidos = colores_primarios\n",
        "\n",
        "#----------------------------------------------------\n",
        "# append (): agrega un elemento al final de la lista\n",
        "#----------------------------------------------------\n",
        "dias_laborables.append(\"sabado\")\n",
        "print(dias_laborables)\n",
        "\n",
        "#----------------------------------------------------\n",
        "# len (): total de elementos de la lista\n",
        "#----------------------------------------------------\n",
        "\n",
        "print(\"Total de precios = \",len(precios))\n",
        "\n",
        "#-----------------------------------------------------------------------\n",
        "# count (): cuenta el numero de veces que aparece un número en la lista\n",
        "#-----------------------------------------------------------------------\n",
        "\n",
        "print(f\"el lunes aparece {dias_laborables.count('lunes')} vez(veces)\")\n",
        "\n",
        "#----------------------------------------------------\n",
        "# insert (): agrega en la posición indicada por el indice del nuevo valor,desplazando los demás elementos hacia la derecha. si el indice es mayor al tamaño de la lista, lo agrega al final\n",
        "#----------------------------------------------------\n",
        "\n",
        "colores_primarios.insert(2,\"verde\")\n",
        "print(colores_primarios)\n",
        "\n",
        "#----------------------------------------------------\n",
        "# remove (): quita el elemento de la lista. Si el elemento no está lanza un error\n",
        "#----------------------------------------------------\n",
        "dias_laborables.remove(\"sabado\")\n",
        "print(dias_laborables)\n",
        "\n",
        "#----------------------------------------------------\n",
        "# sort (): ordena la lista de menor a mayor\n",
        "#----------------------------------------------------\n",
        "\n",
        "precios.sort()\n",
        "print(precios)\n",
        "\n",
        "precios.sort(reverse=True)\n",
        "print(precios)\n",
        "\n",
        "#----------------------------------------------------\n",
        "# reverse ():pone el orden de la lista en reversa\n",
        "#----------------------------------------------------}\n",
        "\n",
        "colores_primarios.reverse()\n",
        "print(colores_primarios)\n",
        "\n",
        "#----------------------------------------------------\n",
        "#pop (): elimina un elemento en específico\n",
        "#----------------------------------------------------\n",
        "\n",
        "dias_laborables.pop(3)\n",
        "print(dias_laborables)\n",
        "\n",
        "#----------------------------------------------------\n",
        "# del () : elimina objetos  y variables del programa\n",
        "#----------------------------------------------------\n",
        "\n",
        "del colores_primarios\n",
        "# si se pone un print (colores_primarios)el programa marcará error porque no exste diche lista\n",
        "\n",
        "#clear\n",
        "\n",
        "colores_repetidos.clear()\n",
        "print(colores_repetidos)"
      ],
      "metadata": {
        "colab": {
          "base_uri": "https://localhost:8080/"
        },
        "id": "GReFRGuXUWzH",
        "outputId": "84c1574a-9f09-4e50-e1e1-3213ed9b5b4a"
      },
      "execution_count": 41,
      "outputs": [
        {
          "output_type": "stream",
          "name": "stdout",
          "text": [
            "['lunes', 'martes', 'miercoles', 'jueves', 'viernes', 'sabado']\n",
            "Total de precios =  6\n",
            "el lunes aparece 1 vez(veces)\n",
            "['rojo', 'amarillo', 'verde', 'azul']\n",
            "['lunes', 'martes', 'miercoles', 'jueves', 'viernes']\n",
            "[25.45, 107.18, 170.23, 205.3, 319.89, 349]\n",
            "[349, 319.89, 205.3, 170.23, 107.18, 25.45]\n",
            "['azul', 'verde', 'amarillo', 'rojo']\n",
            "['lunes', 'martes', 'miercoles', 'viernes']\n",
            "[]\n"
          ]
        }
      ]
    },
    {
      "cell_type": "markdown",
      "source": [
        "## Partición o división de listas (slicing o rebanadas)\n",
        "\n",
        "-se pueden generar sublistas a partir de una lista por medio de la partición o slicing\n",
        "\n",
        "-para obtener una sublista se usa la sintaxis ```sublista = lista[inicio:fin:n]```"
      ],
      "metadata": {
        "id": "DU5bgcKQgW5j"
      }
    },
    {
      "cell_type": "code",
      "source": [
        "# se crea una lista de numeros enteros\n",
        "lista_1=[1,2,3,4,5,6]\n",
        "\n",
        "#sublista con los primeros elementos de las posiciones 0 a la 2 inclusive\n",
        "\n",
        "sublista_1= lista_1[0:3]\n",
        "print(sublista_1)\n",
        "\n",
        "#sublista con los primeros elementos 0 a la 3 inclusive\n",
        "\n",
        "sublista_2= lista_1[:4]\n",
        "print(sublista_2)\n",
        "\n",
        "#sublista con los elementos de 3 a 5 inclusive\n",
        "\n",
        "sublista_3=lista_1[3:]\n",
        "print(sublista_3)\n",
        "\n",
        "#sublista con los elementos desde el inicio hasta el final, con saltos de a 2\n",
        "sublista_4=lista_1[::2]\n",
        "print(sublista_4)\n",
        "\n",
        "\n",
        "\n",
        "#"
      ],
      "metadata": {
        "colab": {
          "base_uri": "https://localhost:8080/"
        },
        "id": "md4dXKJLhHD3",
        "outputId": "28d10404-ae72-42d0-c009-2c06ff752d1d"
      },
      "execution_count": 38,
      "outputs": [
        {
          "output_type": "stream",
          "name": "stdout",
          "text": [
            "[1, 2, 3]\n",
            "[1, 2, 3, 4]\n",
            "[4, 5, 6]\n",
            "[1, 3, 5]\n"
          ]
        }
      ]
    }
  ]
}